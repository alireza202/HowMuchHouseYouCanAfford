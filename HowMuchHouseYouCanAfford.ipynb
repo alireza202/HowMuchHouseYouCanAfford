{
 "cells": [
  {
   "cell_type": "code",
   "execution_count": 2,
   "id": "be0245cb",
   "metadata": {},
   "outputs": [],
   "source": [
    "from utils import Buyer, Economy, House"
   ]
  },
  {
   "attachments": {},
   "cell_type": "markdown",
   "id": "08025742",
   "metadata": {},
   "source": [
    "Assumptions:\n",
    "\n",
    "1. Your assets are invested.\n",
    "2. You want to retire only based on your investments. Social security, for example, is not included in the calculations.\n",
    "3. You don't want to sell the house at any point, and you plan to retire in that house, hence the house is not counted towards assets. The scenario of down-sizing at some point and retiring earlier is not supported.\n",
    "4. Inflation is not taken into account when calculating the enough number, but that is ok, as long as investmentReturn is adjusted accordingly.\n",
    "5. Wage growth or life-style inflation are not included in the calculation either."
   ]
  },
  {
   "attachments": {},
   "cell_type": "markdown",
   "id": "1b6e1088",
   "metadata": {},
   "source": [
    "Guideline:\n",
    "- This tool calculates the number of years it takes to retire after buying a house with a mortgage.\n",
    "- There are three main classes: Buyer, Economy and House, each encompassing the appropriate information and methods.\n",
    "- Fill in the cell below with the desired information. Values provided are for demonstration only.\n",
    "- Feel free to simulate various scenarios, and see the impact on the number of years it takes to retire when buying a house."
   ]
  },
  {
   "cell_type": "code",
   "execution_count": 3,
   "id": "0ab6620a",
   "metadata": {},
   "outputs": [
    {
     "name": "stdout",
     "output_type": "stream",
     "text": [
      "House info:\n",
      "{'down_payment_ratio': 0.2,\n",
      " 'economy': <utils.Economy object at 0x7fdf38d6a910>,\n",
      " 'insurance': 1500.0,\n",
      " 'loan_years': 30,\n",
      " 'maintenance_cost': 10000.0,\n",
      " 'mortgage': 61000.0,\n",
      " 'price': 1000000,\n",
      " 'tax': 10000.0,\n",
      " 'yearly_cost': 82000.0}\n",
      "\n",
      "Your enough number including the house is 4,700,000\n",
      "\n",
      "assets in year 0 is: $0\n",
      "assets in year 1 is: $58,000\n",
      "assets in year 2 is: $120,000\n",
      "assets in year 3 is: $186,000\n",
      "assets in year 4 is: $258,000\n",
      "assets in year 5 is: $334,000\n",
      "assets in year 6 is: $415,000\n",
      "assets in year 7 is: $502,000\n",
      "assets in year 8 is: $595,000\n",
      "assets in year 9 is: $695,000\n",
      "assets in year 10 is: $801,000\n",
      "assets in year 11 is: $915,000\n",
      "assets in year 12 is: $1,038,000\n",
      "assets in year 13 is: $1,168,000\n",
      "assets in year 14 is: $1,308,000\n",
      "assets in year 15 is: $1,457,000\n",
      "assets in year 16 is: $1,618,000\n",
      "assets in year 17 is: $1,789,000\n",
      "assets in year 18 is: $1,972,000\n",
      "assets in year 19 is: $2,168,000\n",
      "assets in year 20 is: $2,378,000\n",
      "assets in year 21 is: $2,602,000\n",
      "assets in year 22 is: $2,842,000\n",
      "assets in year 23 is: $3,099,000\n",
      "assets in year 24 is: $3,374,000\n",
      "assets in year 25 is: $3,668,000\n",
      "assets in year 26 is: $3,983,000\n",
      "assets in year 27 is: $4,320,000\n",
      "assets in year 28 is: $4,680,000\n",
      "assets in year 29 is: $5,066,000\n",
      "\n",
      "Congrats! You can retire in 29 years.\n"
     ]
    }
   ],
   "source": [
    "buyer = Buyer(\n",
    "    assets=200_000,  # This signifies the total amount of assets the buyer has. The downpayment is deducted from this amount.\n",
    "    yearlyIncomeAfterTax=200_000,  \n",
    "    yearlyExpensesWithoutHouse=60_000, \n",
    "    withdrawalRate=0.03,  # Withdrawing X% of assets (minus the house) on a yearly basis. A good number is less than or equal 0.04\n",
    ")\n",
    "\n",
    "economy = Economy(\n",
    "    investmentReturn=0.07, \n",
    "    APR=0.065, \n",
    "    realEstateTax=0.01,\n",
    "    insuranceRatio=0.0015,\n",
    ")\n",
    "\n",
    "house = House(\n",
    "    price=1_000_000, \n",
    "    economy=economy,\n",
    "    down_payment_ratio=0.2,\n",
    "    loan_years=30, \n",
    "    maintenance_cost_ratio=0.01,\n",
    ")\n",
    "\n",
    "years = buyer.calculate_years_until_retirement(house, economy)"
   ]
  },
  {
   "cell_type": "code",
   "execution_count": null,
   "id": "c5b2e781",
   "metadata": {},
   "outputs": [],
   "source": []
  }
 ],
 "metadata": {
  "kernelspec": {
   "display_name": "Python 3",
   "language": "python",
   "name": "python3"
  },
  "language_info": {
   "codemirror_mode": {
    "name": "ipython",
    "version": 3
   },
   "file_extension": ".py",
   "mimetype": "text/x-python",
   "name": "python",
   "nbconvert_exporter": "python",
   "pygments_lexer": "ipython3",
   "version": "3.8.8"
  }
 },
 "nbformat": 4,
 "nbformat_minor": 5
}
